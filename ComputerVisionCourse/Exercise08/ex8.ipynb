{
 "cells": [
  {
   "cell_type": "markdown",
   "id": "6053453d",
   "metadata": {},
   "source": [
    "# Exercise 8: Self Supervised Learning\n",
    "\n",
    "**Summer Semester 2025**\n",
    "\n",
    "**Author**: Nick Stracke (nick.stracke@lmu.de)\n",
    "\n",
    "## Instructions\n",
    "\n",
    "Parts where code should be added are marked using `TODO`. You shouldn't have to edit anything else with the exception of imports.\n",
    "\n",
    "*Please* add extensive comments to your code to explain what you're doing/trying to do. It is hard to assign partial points for incorrect or incomplete solutions if we do not understand what you are trying to do."
   ]
  },
  {
   "cell_type": "markdown",
   "id": "e54d91ba",
   "metadata": {},
   "source": [
    "# Task 1: Temperature in Self Supervised Learning"
   ]
  },
  {
   "cell_type": "code",
   "id": "62c59802",
   "metadata": {
    "ExecuteTime": {
     "end_time": "2025-07-10T15:36:50.890718Z",
     "start_time": "2025-07-10T15:36:50.885987Z"
    }
   },
   "source": [
    "import torch\n",
    "import matplotlib.pyplot as plt"
   ],
   "outputs": [],
   "execution_count": 35
  },
  {
   "cell_type": "markdown",
   "id": "a491fe5b",
   "metadata": {},
   "source": [
    "### Task 1.1: Visualizing the Effect of Temperature"
   ]
  },
  {
   "cell_type": "code",
   "id": "f65ae9a2",
   "metadata": {
    "ExecuteTime": {
     "end_time": "2025-07-10T15:36:52.146792Z",
     "start_time": "2025-07-10T15:36:52.139495Z"
    }
   },
   "source": [
    "def softmax_temp(logits: torch.Tensor, tau: float = 1.0) -> torch.Tensor:\n",
    "    \"\"\"\n",
    "    Applies the softmax function with temperature.\n",
    "\n",
    "    Parameters:\n",
    "        logits (torch.Tensor, shape (N,)): A tensor containing the raw scores or logits.\n",
    "        tau (float, optional): The temperature parameter to scale the logits. Default is 1.0.\n",
    "\n",
    "    Returns:\n",
    "        torch.Tensor: A tensor containing the probabilities after applying the softmax function.\n",
    "    \"\"\"\n",
    "    scaled_logits = logits/tau\n",
    "    max_logits = torch.max(scaled_logits, dim=-1, keepdim=True).values\n",
    "    stabilized_logits = scaled_logits - max_logits\n",
    "    \n",
    "    exp_logits = torch.exp(stabilized_logits)\n",
    "    \n",
    "    sum_exp = torch.sum(exp_logits, dim=-1, keepdim=True)\n",
    "    softmax = exp_logits / sum_exp\n",
    "    \n",
    "    \n",
    "    return softmax"
   ],
   "outputs": [],
   "execution_count": 36
  },
  {
   "cell_type": "code",
   "id": "8a21355b",
   "metadata": {
    "ExecuteTime": {
     "end_time": "2025-07-10T15:36:55.025Z",
     "start_time": "2025-07-10T15:36:53.965169Z"
    }
   },
   "source": [
    "sims = torch.tensor([2.0, 1.0, 0.2, -0.5])\n",
    "temps = [0.1, 0.5, 1.0, 2.0, 5.0]\n",
    "\n",
    "fig, ax = plt.subplots(1, len(temps), figsize=(int(2 * len(temps)), 2))\n",
    "for i, tau in enumerate(temps):\n",
    "    ax[i].bar(range(len(sims)), softmax_temp(sims, tau).numpy())\n",
    "    ax[i].set_title(f\"tau={tau}\")\n",
    "    ax[i].set_xticks(range(len(sims)))\n",
    "    ax[i].set_xticklabels([f\"s{i}\" for i in range(len(sims))])\n",
    "    ax[i].set_ylim(0, 1)\n",
    "plt.tight_layout()\n",
    "plt.show()"
   ],
   "outputs": [
    {
     "data": {
      "text/plain": [
       "<Figure size 1000x200 with 5 Axes>"
      ],
      "image/png": "[encoded data removed]"
     },
     "metadata": {},
     "output_type": "display_data"
    }
   ],
   "execution_count": 37
  },
  {
   "cell_type": "markdown",
   "id": "fe9c113b",
   "metadata": {},
   "source": [
    "### Task 1.2: Intuition: Confidence vs. Uncertainty"
   ]
  },
  {
   "cell_type": "markdown",
   "id": "1f6b3769",
   "metadata": {},
   "source": [
    "##### What happens to the distribution when the temperature is very low (e.g., τ = 0.1)? What does this mean in terms of model confidence?\n",
    "\n",
    "*it makes the output more confident (peaky)*\n",
    "\n",
    "##### What happens when τ is very high (e.g., τ = 10.0)? What does this mean for the model’s ability to focus?\n",
    "\n",
    "*makes the output softer (more uniform) and can lead to nonsense*"
   ]
  },
  {
   "cell_type": "markdown",
   "id": "08c4dc27",
   "metadata": {},
   "source": [
    "### Task 1.3: Why Temperature Matters in Contrastive Learning"
   ]
  },
  {
   "cell_type": "code",
   "id": "67de1156",
   "metadata": {
    "ExecuteTime": {
     "end_time": "2025-07-10T15:36:56.894750Z",
     "start_time": "2025-07-10T15:36:56.538994Z"
    }
   },
   "source": [
    "sims = torch.tensor([1.0, 0.2, 0.1, -0.1, -0.3])\n",
    "temps = [0.1, 10.0]\n",
    "\n",
    "fig, ax = plt.subplots(1, len(temps), figsize=(int(2 * len(temps)), 2))\n",
    "for i, tau in enumerate(temps):\n",
    "    ax[i].bar(range(len(sims)), softmax_temp(sims, tau).numpy())\n",
    "    ax[i].set_title(f\"tau={tau}\")\n",
    "    ax[i].set_xticks(range(len(sims)))\n",
    "    ax[i].set_xticklabels([f\"s{i}\" for i in range(len(sims))])\n",
    "    ax[i].set_ylim(0, 1)\n",
    "plt.tight_layout()\n",
    "plt.show()"
   ],
   "outputs": [
    {
     "data": {
      "text/plain": [
       "<Figure size 400x200 with 2 Axes>"
      ],
      "image/png": "[encoded data removed]"
     },
     "metadata": {},
     "output_type": "display_data"
    }
   ],
   "execution_count": 38
  },
  {
   "cell_type": "markdown",
   "id": "a65909b8",
   "metadata": {},
   "source": [
    "##### Discuss: Why might a sharper distribution (lower τ ) help the model learn more effectively?\n",
    "\n",
    "*Because a lower τ makes the model more confident in distinguishing positive (TP) pairs from negative (TN)\n",
    " pairs by amplifying the differences in similarity scores.*"
   ]
  },
  {
   "cell_type": "markdown",
   "id": "2b148f4d",
   "metadata": {},
   "source": [
    "# Task 2: SimCLR"
   ]
  },
  {
   "cell_type": "code",
   "id": "46686779",
   "metadata": {
    "ExecuteTime": {
     "end_time": "2025-07-10T15:11:40.149410Z",
     "start_time": "2025-07-10T15:11:40.145679Z"
    }
   },
   "source": [
    "import matplotlib.pyplot as plt\n",
    "from sklearn.manifold import TSNE\n",
    "import torch\n",
    "from ex8_2 import SimCLRModel\n",
    "from torch.utils.data import DataLoader\n",
    "import torchvision.transforms as T\n",
    "import torchvision\n",
    "from tqdm import tqdm\n",
    "import torch.nn as nn"
   ],
   "outputs": [],
   "execution_count": 27
  },
  {
   "cell_type": "markdown",
   "id": "08668bd2",
   "metadata": {},
   "source": [
    "### Task 2.1: Implement and Train a SimCLR Model\n",
    "##### Switch to ex2.py to complete the implementation and train the SimCLR model. Come back here once you have a trained checkpoint."
   ]
  },
  {
   "cell_type": "markdown",
   "id": "f43eb60d",
   "metadata": {},
   "source": [
    "### Task 2.2: Visualize with t-SNE"
   ]
  },
  {
   "cell_type": "code",
   "id": "a51f0111",
   "metadata": {
    "ExecuteTime": {
     "end_time": "2025-07-10T15:28:03.579744Z",
     "start_time": "2025-07-10T15:28:03.477823Z"
    }
   },
   "source": [
    "device = \"mps\" if torch.backends.mps.is_available() else (\"cuda\" if torch.cuda.is_available() else \"cpu\")\n",
    "test_batch_size = 256\n",
    "model = SimCLRModel()\n",
    "model.load_state_dict(torch.load(\"simclr_model.pth\", map_location=\"cpu\"))\n",
    "model.eval()\n",
    "model.to(device)\n",
    "\n",
    "test_dataset = torchvision.datasets.CIFAR10(root='./data', train=False, transform=T.ToTensor())\n",
    "test_loader = DataLoader(test_dataset, batch_size=test_batch_size, shuffle=False, num_workers=0)\n",
    "\n",
    "all_embeddings = []\n",
    "all_labels = []\n",
    "\n",
    "with torch.no_grad():\n",
    "    for imgs, train_labels in tqdm(test_loader):\n",
    "        imgs = imgs.to(device)\n",
    "        embedings = model.encoder(imgs)\n",
    "        all_embeddings.append((embedings.cpu()))\n",
    "        all_labels.append(train_labels)\n",
    "\n",
    "all_embeddings = torch.cat(all_embeddings, dim=0).squeeze().numpy()\n",
    "all_labels = torch.cat(all_labels, dim=0).numpy()\n",
    "\n",
    "subset_embeddings = all_embeddings[:1000]  # Subset for faster t-SNE\n",
    "subset_labels = all_labels[:1000]\n",
    "\n",
    "print(\"Running t-SNE...\")\n",
    "tsne = TSNE(n_components=2, perplexity=30, init='random', random_state=42)\n",
    "tsne_result = tsne.fit_transform(subset_embeddings)\n",
    "\n",
    "# --- Plotting ---\n",
    "plt.figure(figsize=(10, 8))\n",
    "scatter = plt.scatter(tsne_result[:, 0], tsne_result[:, 1], c=subset_labels, cmap='tab10', s=10)\n",
    "plt.legend(*scatter.legend_elements(), title=\"Classes\")\n",
    "plt.title(\"t-SNE of CIFAR-10 Test Set Embeddings\")\n",
    "plt.xlabel(\"t-SNE 1\")\n",
    "plt.ylabel(\"t-SNE 2\")\n",
    "plt.grid(True)\n",
    "plt.show()"
   ],
   "outputs": [
    {
     "ename": "FileNotFoundError",
     "evalue": "[Errno 2] No such file or directory: 'simclr_model.pth'",
     "output_type": "error",
     "traceback": [
      "\u001B[31m---------------------------------------------------------------------------\u001B[39m",
      "\u001B[31mFileNotFoundError\u001B[39m                         Traceback (most recent call last)",
      "\u001B[36mCell\u001B[39m\u001B[36m \u001B[39m\u001B[32mIn[32]\u001B[39m\u001B[32m, line 4\u001B[39m\n\u001B[32m      2\u001B[39m test_batch_size = \u001B[32m256\u001B[39m\n\u001B[32m      3\u001B[39m model = SimCLRModel()\n\u001B[32m----> \u001B[39m\u001B[32m4\u001B[39m model.load_state_dict(\u001B[43mtorch\u001B[49m\u001B[43m.\u001B[49m\u001B[43mload\u001B[49m\u001B[43m(\u001B[49m\u001B[33;43m\"\u001B[39;49m\u001B[33;43msimclr_model.pth\u001B[39;49m\u001B[33;43m\"\u001B[39;49m\u001B[43m,\u001B[49m\u001B[43m \u001B[49m\u001B[43mmap_location\u001B[49m\u001B[43m=\u001B[49m\u001B[33;43m\"\u001B[39;49m\u001B[33;43mcpu\u001B[39;49m\u001B[33;43m\"\u001B[39;49m\u001B[43m)\u001B[49m)\n\u001B[32m      5\u001B[39m model.eval()\n\u001B[32m      6\u001B[39m model.to(device)\n",
      "\u001B[36mFile \u001B[39m\u001B[32m~/.pyenv/versions/myproject-env-py3118/lib/python3.11/site-packages/torch/serialization.py:998\u001B[39m, in \u001B[36mload\u001B[39m\u001B[34m(f, map_location, pickle_module, weights_only, mmap, **pickle_load_args)\u001B[39m\n\u001B[32m    995\u001B[39m \u001B[38;5;28;01mif\u001B[39;00m \u001B[33m'\u001B[39m\u001B[33mencoding\u001B[39m\u001B[33m'\u001B[39m \u001B[38;5;129;01mnot\u001B[39;00m \u001B[38;5;129;01min\u001B[39;00m pickle_load_args.keys():\n\u001B[32m    996\u001B[39m     pickle_load_args[\u001B[33m'\u001B[39m\u001B[33mencoding\u001B[39m\u001B[33m'\u001B[39m] = \u001B[33m'\u001B[39m\u001B[33mutf-8\u001B[39m\u001B[33m'\u001B[39m\n\u001B[32m--> \u001B[39m\u001B[32m998\u001B[39m \u001B[38;5;28;01mwith\u001B[39;00m \u001B[43m_open_file_like\u001B[49m\u001B[43m(\u001B[49m\u001B[43mf\u001B[49m\u001B[43m,\u001B[49m\u001B[43m \u001B[49m\u001B[33;43m'\u001B[39;49m\u001B[33;43mrb\u001B[39;49m\u001B[33;43m'\u001B[39;49m\u001B[43m)\u001B[49m \u001B[38;5;28;01mas\u001B[39;00m opened_file:\n\u001B[32m    999\u001B[39m     \u001B[38;5;28;01mif\u001B[39;00m _is_zipfile(opened_file):\n\u001B[32m   1000\u001B[39m         \u001B[38;5;66;03m# The zipfile reader is going to advance the current file position.\u001B[39;00m\n\u001B[32m   1001\u001B[39m         \u001B[38;5;66;03m# If we want to actually tail call to torch.jit.load, we need to\u001B[39;00m\n\u001B[32m   1002\u001B[39m         \u001B[38;5;66;03m# reset back to the original position.\u001B[39;00m\n\u001B[32m   1003\u001B[39m         orig_position = opened_file.tell()\n",
      "\u001B[36mFile \u001B[39m\u001B[32m~/.pyenv/versions/myproject-env-py3118/lib/python3.11/site-packages/torch/serialization.py:445\u001B[39m, in \u001B[36m_open_file_like\u001B[39m\u001B[34m(name_or_buffer, mode)\u001B[39m\n\u001B[32m    443\u001B[39m \u001B[38;5;28;01mdef\u001B[39;00m\u001B[38;5;250m \u001B[39m\u001B[34m_open_file_like\u001B[39m(name_or_buffer, mode):\n\u001B[32m    444\u001B[39m     \u001B[38;5;28;01mif\u001B[39;00m _is_path(name_or_buffer):\n\u001B[32m--> \u001B[39m\u001B[32m445\u001B[39m         \u001B[38;5;28;01mreturn\u001B[39;00m \u001B[43m_open_file\u001B[49m\u001B[43m(\u001B[49m\u001B[43mname_or_buffer\u001B[49m\u001B[43m,\u001B[49m\u001B[43m \u001B[49m\u001B[43mmode\u001B[49m\u001B[43m)\u001B[49m\n\u001B[32m    446\u001B[39m     \u001B[38;5;28;01melse\u001B[39;00m:\n\u001B[32m    447\u001B[39m         \u001B[38;5;28;01mif\u001B[39;00m \u001B[33m'\u001B[39m\u001B[33mw\u001B[39m\u001B[33m'\u001B[39m \u001B[38;5;129;01min\u001B[39;00m mode:\n",
      "\u001B[36mFile \u001B[39m\u001B[32m~/.pyenv/versions/myproject-env-py3118/lib/python3.11/site-packages/torch/serialization.py:426\u001B[39m, in \u001B[36m_open_file.__init__\u001B[39m\u001B[34m(self, name, mode)\u001B[39m\n\u001B[32m    425\u001B[39m \u001B[38;5;28;01mdef\u001B[39;00m\u001B[38;5;250m \u001B[39m\u001B[34m__init__\u001B[39m(\u001B[38;5;28mself\u001B[39m, name, mode):\n\u001B[32m--> \u001B[39m\u001B[32m426\u001B[39m     \u001B[38;5;28msuper\u001B[39m().\u001B[34m__init__\u001B[39m(\u001B[38;5;28;43mopen\u001B[39;49m\u001B[43m(\u001B[49m\u001B[43mname\u001B[49m\u001B[43m,\u001B[49m\u001B[43m \u001B[49m\u001B[43mmode\u001B[49m\u001B[43m)\u001B[49m)\n",
      "\u001B[31mFileNotFoundError\u001B[39m: [Errno 2] No such file or directory: 'simclr_model.pth'"
     ]
    }
   ],
   "execution_count": 32
  },
  {
   "cell_type": "markdown",
   "id": "219525e1",
   "metadata": {},
   "source": [
    "### Task 2.3: Quantitative Evaluation using Linear Probing"
   ]
  },
  {
   "cell_type": "code",
   "id": "49137ecd",
   "metadata": {
    "ExecuteTime": {
     "end_time": "2025-07-10T15:28:04.921022Z",
     "start_time": "2025-07-10T15:28:04.865615Z"
    }
   },
   "source": [
    "# CONFIG\n",
    "num_classes = 10  # CIFAR-10 has 10 classes\n",
    "train_batch_size = 256\n",
    "epochs = 50\n",
    "\n",
    "train_dataset = torchvision.datasets.CIFAR10(root='./data', train=True, transform=T.ToTensor())\n",
    "train_loader = DataLoader(train_dataset, batch_size=train_batch_size, shuffle=False, num_workers=0)\n",
    "\n",
    "train_features, train_labels = [], []\n",
    "with torch.no_grad():\n",
    "    for x, y in tqdm(train_loader):\n",
    "        x = x.to(device)\n",
    "        embedings_en = model.encoder(x)\n",
    "        all_embeddings.append(embedings_en.cpu())\n",
    "        all_labels.append(y)\n",
    "\n",
    "train_features = torch.cat(train_features)\n",
    "train_labels = torch.cat(train_labels)"
   ],
   "outputs": [
    {
     "ename": "RuntimeError",
     "evalue": "Dataset not found or corrupted. You can use download=True to download it",
     "output_type": "error",
     "traceback": [
      "\u001B[31m---------------------------------------------------------------------------\u001B[39m",
      "\u001B[31mRuntimeError\u001B[39m                              Traceback (most recent call last)",
      "\u001B[36mCell\u001B[39m\u001B[36m \u001B[39m\u001B[32mIn[33]\u001B[39m\u001B[32m, line 6\u001B[39m\n\u001B[32m      3\u001B[39m train_batch_size = \u001B[32m256\u001B[39m\n\u001B[32m      4\u001B[39m epochs = \u001B[32m50\u001B[39m\n\u001B[32m----> \u001B[39m\u001B[32m6\u001B[39m train_dataset = \u001B[43mtorchvision\u001B[49m\u001B[43m.\u001B[49m\u001B[43mdatasets\u001B[49m\u001B[43m.\u001B[49m\u001B[43mCIFAR10\u001B[49m\u001B[43m(\u001B[49m\u001B[43mroot\u001B[49m\u001B[43m=\u001B[49m\u001B[33;43m'\u001B[39;49m\u001B[33;43m./data\u001B[39;49m\u001B[33;43m'\u001B[39;49m\u001B[43m,\u001B[49m\u001B[43m \u001B[49m\u001B[43mtrain\u001B[49m\u001B[43m=\u001B[49m\u001B[38;5;28;43;01mTrue\u001B[39;49;00m\u001B[43m,\u001B[49m\u001B[43m \u001B[49m\u001B[43mtransform\u001B[49m\u001B[43m=\u001B[49m\u001B[43mT\u001B[49m\u001B[43m.\u001B[49m\u001B[43mToTensor\u001B[49m\u001B[43m(\u001B[49m\u001B[43m)\u001B[49m\u001B[43m)\u001B[49m\n\u001B[32m      7\u001B[39m train_loader = DataLoader(train_dataset, batch_size=train_batch_size, shuffle=\u001B[38;5;28;01mFalse\u001B[39;00m, num_workers=\u001B[32m0\u001B[39m)\n\u001B[32m      9\u001B[39m train_features, train_labels = [], []\n",
      "\u001B[36mFile \u001B[39m\u001B[32m~/.pyenv/versions/myproject-env-py3118/lib/python3.11/site-packages/torchvision/datasets/cifar.py:68\u001B[39m, in \u001B[36mCIFAR10.__init__\u001B[39m\u001B[34m(self, root, train, transform, target_transform, download)\u001B[39m\n\u001B[32m     65\u001B[39m     \u001B[38;5;28mself\u001B[39m.download()\n\u001B[32m     67\u001B[39m \u001B[38;5;28;01mif\u001B[39;00m \u001B[38;5;129;01mnot\u001B[39;00m \u001B[38;5;28mself\u001B[39m._check_integrity():\n\u001B[32m---> \u001B[39m\u001B[32m68\u001B[39m     \u001B[38;5;28;01mraise\u001B[39;00m \u001B[38;5;167;01mRuntimeError\u001B[39;00m(\u001B[33m\"\u001B[39m\u001B[33mDataset not found or corrupted. You can use download=True to download it\u001B[39m\u001B[33m\"\u001B[39m)\n\u001B[32m     70\u001B[39m \u001B[38;5;28;01mif\u001B[39;00m \u001B[38;5;28mself\u001B[39m.train:\n\u001B[32m     71\u001B[39m     downloaded_list = \u001B[38;5;28mself\u001B[39m.train_list\n",
      "\u001B[31mRuntimeError\u001B[39m: Dataset not found or corrupted. You can use download=True to download it"
     ]
    }
   ],
   "execution_count": 33
  },
  {
   "cell_type": "code",
   "id": "ba22bf2b",
   "metadata": {
    "ExecuteTime": {
     "end_time": "2025-07-10T15:28:05.724631Z",
     "start_time": "2025-07-10T15:28:05.685148Z"
    }
   },
   "source": [
    "# TODO: define the linear probe, optimizer and classification loss here\n",
    "probe = torch.nn.Linear(train_features.shape[1], num_classes).to(device)\n",
    "optimizer = torch.optim.Adam(probe.parameters(), lr=1e-3)\n",
    "loss_fn = torch.nn.CrossEntropyLoss()\n",
    "# Train probe\n",
    "for epoch in range(epochs):\n",
    "    perm = torch.randperm(train_features.size(0))\n",
    "    train_features, train_labels = train_features[perm], train_labels[perm]\n",
    "    total_loss = 0\n",
    "    for i in range(0, len(train_features), train_batch_size):\n",
    "        xb = train_features[i:i+train_batch_size].to(device)\n",
    "        yb = train_labels[i:i+train_batch_size].to(device)\n",
    "        \n",
    "        optimizer.zero_grad()\n",
    "        logits= probe(xb)\n",
    "        loss = loss_fn(logits, yb)\n",
    "        loss.backward()\n",
    "        optimizer.step()\n",
    "        \n",
    "        total_loss += loss.item() * xb.size(0)\n",
    "        \n",
    "    axg_loss = total_loss / len(train_features)\n",
    "    print(f\"Epoch {epoch+1}/{epochs} - Loss: {axg_loss:.4f}\")"
   ],
   "outputs": [
    {
     "ename": "NameError",
     "evalue": "name 'train_features' is not defined",
     "output_type": "error",
     "traceback": [
      "\u001B[31m---------------------------------------------------------------------------\u001B[39m",
      "\u001B[31mNameError\u001B[39m                                 Traceback (most recent call last)",
      "\u001B[36mCell\u001B[39m\u001B[36m \u001B[39m\u001B[32mIn[34]\u001B[39m\u001B[32m, line 2\u001B[39m\n\u001B[32m      1\u001B[39m \u001B[38;5;66;03m# TODO: define the linear probe, optimizer and classification loss here\u001B[39;00m\n\u001B[32m----> \u001B[39m\u001B[32m2\u001B[39m probe = torch.nn.Linear(\u001B[43mtrain_features\u001B[49m.shape[\u001B[32m1\u001B[39m], num_classes).to(device)\n\u001B[32m      3\u001B[39m optimizer = torch.optim.Adam(probe.parameters(), lr=\u001B[32m1e-3\u001B[39m)\n\u001B[32m      4\u001B[39m loss_fn = torch.nn.CrossEntropyLoss()\n",
      "\u001B[31mNameError\u001B[39m: name 'train_features' is not defined"
     ]
    }
   ],
   "execution_count": 34
  },
  {
   "cell_type": "code",
   "execution_count": null,
   "id": "7fab6fad",
   "metadata": {},
   "outputs": [],
   "source": [
    "test_features = []\n",
    "test_labels = []\n",
    "\n",
    "with torch.no_grad():\n",
    "    for x, y in test_loader:\n",
    "        x = x.to(device)\n",
    "        feats = model.encoder(x)\n",
    "        test_features.append(feats.cpu())\n",
    "        test_labels.append(y)\n",
    "\n",
    "test_features = torch.cat(test_features).to(device)\n",
    "test_labels = torch.cat(test_labels).to(device)\n",
    "\n",
    "with torch.no_grad():\n",
    "    logits = probe(test_features)\n",
    "    preds = logits.argmax(dim=1)\n",
    "    accuracy = (preds == test_labels).float().mean().item()\n",
    "\n",
    "print(f\"Linear probe test accuracy: {accuracy * 100:.2f}%\")\n"
   ]
  },
  {
   "cell_type": "markdown",
   "id": "edfa53c8",
   "metadata": {},
   "source": [
    "# Task 3: CLIP for Zero-Shot Classification"
   ]
  },
  {
   "cell_type": "code",
   "execution_count": null,
   "id": "90980166",
   "metadata": {},
   "outputs": [],
   "source": [
    "import torch\n",
    "from transformers import CLIPProcessor, CLIPModel\n",
    "from PIL import Image\n",
    "import matplotlib.pyplot as plt\n",
    "import requests"
   ]
  },
  {
   "cell_type": "markdown",
   "id": "7ca17202",
   "metadata": {},
   "source": [
    "###  Task 3.2: Implement a Zero-Shot Classifier with CLIP"
   ]
  },
  {
   "cell_type": "code",
   "execution_count": null,
   "id": "19089901",
   "metadata": {},
   "outputs": [],
   "source": [
    "# Load pretrained CLIP\n",
    "model = CLIPModel.from_pretrained(\"openai/clip-vit-base-patch32\")\n",
    "processor = CLIPProcessor.from_pretrained(\"openai/clip-vit-base-patch32\")\n",
    "model.eval()\n",
    "\n",
    "# Example images\n",
    "image_urls = [\n",
    "    \"https://images.unsplash.com/photo-1518717758536-85ae29035b6d\",  # dog\n",
    "    \"https://images.unsplash.com/photo-1514888286974-6c03e2ca1dba\",  # cat\n",
    "    # TODO: add some more images\n",
    "]\n",
    "\n",
    "images = [Image.open(requests.get(url, stream=True).raw).convert(\"RGB\") for url in image_urls]"
   ]
  },
  {
   "cell_type": "code",
   "execution_count": null,
   "id": "f046d988",
   "metadata": {},
   "outputs": [],
   "source": [
    "text_prompts = [\n",
    "    \"a photo of a dog\",\n",
    "    \"an image of a cat\",\n",
    "    \"a photo of a animal\",\n",
    "    \"a photo of a horse\",\n",
    "    \"a photo of a car\",\n",
    "    # TODO: add some more text prompts\n",
    "    # try to play around with how you phrase the text prompts and how that affects the predictions\n",
    "]"
   ]
  },
  {
   "cell_type": "code",
   "execution_count": null,
   "id": "0dc0e014",
   "metadata": {},
   "outputs": [],
   "source": [
    "# Prepare inputs for CLIP\n",
    "inputs = processor(text=text_prompts, images=images, return_tensors=\"pt\", padding=True)\n",
    "\n",
    "probs: torch.Tensor = None # shape [num_images, num_texts]\n",
    "\n",
    "# Forward pass\n",
    "with torch.no_grad():\n",
    "    outputs = model(**inputs)\n",
    "    logits_per_image = outputs.logits_per_image  # shape [num_images, num_texts]\n",
    "    probs = logits_per_image.softmax(dim=1)  \n",
    "    "
   ]
  },
  {
   "cell_type": "code",
   "execution_count": null,
   "id": "112036cd",
   "metadata": {},
   "outputs": [],
   "source": [
    "# Print predictions\n",
    "for i, img in enumerate(images):\n",
    "    plt.imshow(img)\n",
    "    plt.axis(\"off\")\n",
    "    plt.title(f\"PREDICTED: {text_prompts[probs[i].argmax()]}\")\n",
    "    plt.show()\n",
    "    print(\"Probabilities:\")\n",
    "    for j, txt in enumerate(text_prompts):\n",
    "        print(f\"  {txt:<25}: {probs[i][j]:.2f}\")\n",
    "    print()"
   ]
  },
  {
   "cell_type": "markdown",
   "id": "d9b65aeb",
   "metadata": {},
   "source": [
    "### Task 3.3: Discussion"
   ]
  },
  {
   "cell_type": "markdown",
   "id": "8523a908",
   "metadata": {},
   "source": [
    "##### Try varying your text prompts. Does the classification change?\n",
    "\n",
    "*your answer...*\n",
    "\n",
    "##### What kind of errors does CLIP make? Are they semantically reasonable?\n",
    "\n",
    "*your answer...*\n",
    "\n",
    "##### How does this compare to traditional classification models?\n",
    "\n",
    "*your answer...*"
   ]
  }
 ],
 "metadata": {
  "kernelspec": {
   "display_name": "venv",
   "language": "python",
   "name": "python3"
  },
  "language_info": {
   "name": "python",
   "version": "3.9.6"
  }
 },
 "nbformat": 4,
 "nbformat_minor": 5
}
