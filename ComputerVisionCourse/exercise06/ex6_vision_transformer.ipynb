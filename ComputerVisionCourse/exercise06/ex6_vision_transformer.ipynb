{
 "cells": [
  {
   "cell_type": "markdown",
   "id": "7872eeb5",
   "metadata": {},
   "source": [
    "# Vision Transformer"
   ]
  },
  {
   "cell_type": "markdown",
   "id": "c08d6823",
   "metadata": {},
   "source": [
    "Transformer is a family of neural network architectures that came to computer vision from NLP. Since transformers don't assume that their input has any specific structure, they can learn more general dependencies in data than convolutional neural network architectures. That's why we all like Vision transformers. At the same time, vision transformes are known to be \"data hungry\" and their training is quite tricky.\n",
    "\n",
    "In this homework we will go through main components of vision transformers and their training procedure."
   ]
  },
  {
   "cell_type": "code",
   "id": "d9d5684c",
   "metadata": {
    "ExecuteTime": {
     "end_time": "2025-07-28T07:46:49.149824Z",
     "start_time": "2025-07-28T07:46:49.147173Z"
    }
   },
   "source": [
    "import numpy as np\n",
    "import torch\n",
    "from torch import nn"
   ],
   "outputs": [],
   "execution_count": 7
  },
  {
   "cell_type": "markdown",
   "id": "6acb93c2",
   "metadata": {},
   "source": [
    "## How to code your transformer"
   ]
  },
  {
   "cell_type": "markdown",
   "id": "d5e8ab73",
   "metadata": {},
   "source": [
    "As it was said, vision transformer came from NLP area where typical neural network input is ordered sequence of tokens which are words or word parts. So vision transformer main blocks are:\n",
    "1. Tokenizer - module that takes images and returns a set of tokens\n",
    "2. Transformer encoder - the main block of neural network that contains multihead attention, normalization and MLP on tokens.\n",
    "3. Positional embeddings - a way how to provide information about token orders\n",
    "4. Classification token - special token whose features is expected to be used for the final class prediction\n",
    "5. Classification head - MLP that predicts the final class from classificaiton token features"
   ]
  },
  {
   "cell_type": "markdown",
   "id": "f3ba2f4c",
   "metadata": {},
   "source": [
    "### Tokenizer (2p)"
   ]
  },
  {
   "cell_type": "markdown",
   "id": "1799c007",
   "metadata": {},
   "source": [
    "Tokenizer should take an image, split it on non-overlapping patches, flatten the patches and apply Linear layer to these vectors. There are many ways how one can implement this, we will do it using Conv2D with stride being equal to kernel_size."
   ]
  },
  {
   "cell_type": "code",
   "id": "50abdc4c",
   "metadata": {
    "ExecuteTime": {
     "end_time": "2025-07-28T07:57:44.333545Z",
     "start_time": "2025-07-28T07:57:44.328581Z"
    }
   },
   "source": [
    "class Tokenizer(nn.Module):\n",
    "    def __init__(self, input_height, input_width, output_height, output_width,\n",
    "                 n_input_channels,\n",
    "                 embedding_dim):\n",
    "        super(Tokenizer, self).__init__()\n",
    "\n",
    "        assert input_height % output_height == 0, f\"{input_height} should be devided by {output_height}\"\n",
    "        assert input_width % output_width == 0, f\"{input_width} should be devided by {output_width}\"\n",
    "        \n",
    "        kernel_h = input_height // output_height\n",
    "        kernel_w = input_width // output_width\n",
    "        assert kernel_h == kernel_w, \"Only square kernels are supported\"\n",
    "        kernel_size = kernel_h\n",
    "        \n",
    "        self.patch_size = kernel_size\n",
    "        \n",
    "        self.conv = nn.Conv2d(n_input_channels, embedding_dim,  kernel_size, stride=kernel_size)\n",
    "\n",
    "        self.flattener = nn.Flatten(2, 3)       # From [B, C, H, W] to I guess [B, C, HW]\n",
    "\n",
    "    def forward(self, x):\n",
    "        x = self.conv(x)                        # [B, emb_dim, H', W']\n",
    "        x = self.flattener(x).transpose(-2,-1) # [B, H'*W', emb_dim]\n",
    "        return x \n",
    "    \n",
    "    \n",
    "    def patchify(self, img:np.ndarray, kernel:np.ndarray):\n",
    "        \n",
    "        H,W = img.shape\n",
    "        kh, kw = kernel.shape\n",
    "        \n",
    "        out_h = H - kh\n",
    "        out_w = W - kh\n",
    "        \n",
    "        \n",
    "        \n",
    "        \n",
    "        \n",
    "        \n"
   ],
   "outputs": [],
   "execution_count": 49
  },
  {
   "cell_type": "code",
   "id": "bdf6e94b",
   "metadata": {
    "ExecuteTime": {
     "end_time": "2025-07-28T07:57:44.697800Z",
     "start_time": "2025-07-28T07:57:44.693582Z"
    }
   },
   "source": [
    "tokenizer = Tokenizer(input_height=32, input_width=32, output_height=16, output_width=16, n_input_channels=1,\n",
    "                      embedding_dim=64)\n",
    "dummy_batch = torch.zeros((1, 1, 32, 32))\n",
    "tokenizer_result = tokenizer.forward(dummy_batch)\n",
    "assert tokenizer_result.shape == (1, 256, 64), tokenizer_result.shape"
   ],
   "outputs": [],
   "execution_count": 50
  },
  {
   "cell_type": "markdown",
   "id": "370b7e5e",
   "metadata": {},
   "source": [
    "### Transformer encoder"
   ]
  },
  {
   "cell_type": "markdown",
   "id": "981d258b",
   "metadata": {},
   "source": [
    "Transformer encoder consists of 2 blocks: Multi-Head Attention and MLP, each of each is prepended by layer norm. Let's walk through the separate modules for beggining"
   ]
  },
  {
   "cell_type": "markdown",
   "id": "f8aee083",
   "metadata": {},
   "source": [
    "#### Multi-head attention"
   ]
  },
  {
   "cell_type": "markdown",
   "id": "e3b99e7f",
   "metadata": {},
   "source": [
    "<img src=\"https://data-science-blog.com/wp-content/uploads/2022/01/mha_img_original.png\" style=\"width:50%\">"
   ]
  },
  {
   "cell_type": "markdown",
   "id": "27eacf00",
   "metadata": {},
   "source": [
    "Attention implements a simple formula: $\\text{Attention}(Q,K,V) = \\text{softmax}(\\frac{QK^T}{\\sqrt{d_k}})V$.\n",
    "\n",
    "Multi-head attention is about splitting Q, K, V on several subvectors, appling Attention on each subvector independendly and concating the result.\n",
    "\n",
    "You can find Multi-Head Attention being implemented in pytorch as `torch.nn.MultiheadAttention`. Check the documentation and pay attention on `dropout` and `batch_first` parameters.\n",
    "\n",
    "[[paper]](https://arxiv.org/pdf/1706.03762.pdf)"
   ]
  },
  {
   "cell_type": "code",
   "id": "5327af25",
   "metadata": {
    "ExecuteTime": {
     "end_time": "2025-07-28T07:57:46.132494Z",
     "start_time": "2025-07-28T07:57:45.990719Z"
    }
   },
   "source": "torch.nn.MultiheadAttention??",
   "outputs": [],
   "execution_count": 51
  },
  {
   "cell_type": "markdown",
   "id": "f0b57604",
   "metadata": {},
   "source": [
    "#### MLP for Transformer Encoder (1p)"
   ]
  },
  {
   "cell_type": "markdown",
   "id": "bcd93b81",
   "metadata": {},
   "source": [
    "MLP for transformer encoder is just a simple two-layer perceptron with RELU as non-linearity. It also uses Dropout after each Linear layer in order to reduce overfitting. Important thing is that size of hidden state on MLP is usually several times bigger than size of MLP input."
   ]
  },
  {
   "cell_type": "code",
   "id": "845ef548",
   "metadata": {
    "ExecuteTime": {
     "end_time": "2025-07-28T07:57:46.490641Z",
     "start_time": "2025-07-28T07:57:46.486986Z"
    }
   },
   "source": [
    "def create_mlp(embedding_dim, mlp_size, dropout_rate):\n",
    "    return nn.Sequential(\n",
    "        # YOUR CODE: Linear + RELU + Dropout + Linear + Dropout\n",
    "        nn.Linear(embedding_dim, mlp_size),\n",
    "        nn.ReLU(mlp_size),\n",
    "        nn.Dropout(dropout_rate),\n",
    "        nn.Linear(mlp_size, embedding_dim),\n",
    "        nn.Dropout(dropout_rate)\n",
    "    )"
   ],
   "outputs": [],
   "execution_count": 52
  },
  {
   "cell_type": "code",
   "id": "b94014c2",
   "metadata": {
    "ExecuteTime": {
     "end_time": "2025-07-28T07:57:46.610746Z",
     "start_time": "2025-07-28T07:57:46.606844Z"
    }
   },
   "source": [
    "mlp = create_mlp(128, 128 * 2, 0.1)"
   ],
   "outputs": [],
   "execution_count": 53
  },
  {
   "cell_type": "markdown",
   "id": "c07328ab",
   "metadata": {},
   "source": [
    "#### Layer norm"
   ]
  },
  {
   "cell_type": "markdown",
   "id": "e970438d",
   "metadata": {},
   "source": [
    "While Batch Normalization is a default normalization layer for convolutional neural networks, in transformers Layer Normalization is used instead."
   ]
  },
  {
   "cell_type": "markdown",
   "id": "6766c262",
   "metadata": {},
   "source": [
    "Layer norm is implemented in pytorch as `torch.nn.LayerNorm`"
   ]
  },
  {
   "cell_type": "code",
   "id": "90723060",
   "metadata": {
    "ExecuteTime": {
     "end_time": "2025-07-28T07:57:49.626332Z",
     "start_time": "2025-07-28T07:57:49.621626Z"
    }
   },
   "source": [
    "nn.LayerNorm?"
   ],
   "outputs": [],
   "execution_count": 54
  },
  {
   "cell_type": "markdown",
   "id": "295fdab4",
   "metadata": {},
   "source": [
    "#### TransformerEncoder: putting it all together (2p)\n",
    "\n",
    "Now we are ready to define Transformer Encoder.\n",
    "<img src=\"./transformer_encoder.png\" style=\"width:20%\">"
   ]
  },
  {
   "cell_type": "code",
   "id": "6ddf2fc9",
   "metadata": {
    "ExecuteTime": {
     "end_time": "2025-07-28T07:57:49.888927Z",
     "start_time": "2025-07-28T07:57:49.883870Z"
    }
   },
   "source": [
    "class TransformerEncoder(nn.Module):\n",
    "    def __init__(self, embedding_dim, num_heads, mlp_size, dropout=0.1, attention_dropout=0.1,\n",
    "                 drop_path_rate=0.1):\n",
    "        super().__init__()\n",
    "        # YOUR CODE\n",
    "        self.attention_pre_norm = nn.LayerNorm(embedding_dim)\n",
    "        self.attention = torch.nn.MultiheadAttention(embed_dim=embedding_dim,\n",
    "                                                     num_heads=num_heads,\n",
    "                                                     dropout=attention_dropout,\n",
    "                                                     batch_first=True)\n",
    "        \n",
    "        self.attention_output_dropout = nn.Dropout(dropout)\n",
    "\n",
    "        self.mlp_pre_norm = nn.LayerNorm(embedding_dim)\n",
    "        self.mlp = create_mlp(embedding_dim, mlp_size, dropout)\n",
    "\n",
    "    def forward(self, x):\n",
    "        # first block\n",
    "        y = self.attention_pre_norm(x)\n",
    "        attention = self.attention(y, y, y)[0]\n",
    "        attention = self.attention_output_dropout(attention)\n",
    "        x = x + attention   # Residual connection\n",
    "            \n",
    "        # second block\n",
    "        y = self.mlp_pre_norm(x)\n",
    "        y = self.mlp(y)\n",
    "        x = x + y # Residual connection\n",
    "        \n",
    "        return x"
   ],
   "outputs": [],
   "execution_count": 55
  },
  {
   "cell_type": "markdown",
   "id": "ab3d4acf",
   "metadata": {},
   "source": [
    "Let's check that it actually works"
   ]
  },
  {
   "cell_type": "code",
   "id": "109eeb40",
   "metadata": {
    "ExecuteTime": {
     "end_time": "2025-07-28T07:57:50.126503Z",
     "start_time": "2025-07-28T07:57:50.121930Z"
    }
   },
   "source": [
    "tokenizer_result.shape"
   ],
   "outputs": [
    {
     "data": {
      "text/plain": [
       "torch.Size([1, 256, 64])"
      ]
     },
     "execution_count": 56,
     "metadata": {},
     "output_type": "execute_result"
    }
   ],
   "execution_count": 56
  },
  {
   "cell_type": "code",
   "id": "87c8d2e1",
   "metadata": {
    "ExecuteTime": {
     "end_time": "2025-07-28T07:57:50.254816Z",
     "start_time": "2025-07-28T07:57:50.247275Z"
    }
   },
   "source": [
    "e = TransformerEncoder(embedding_dim=64, num_heads=2, mlp_size=128)\n",
    "encoder_result = e(tokenizer_result)\n",
    "print (encoder_result.shape)\n",
    "assert encoder_result.shape == tokenizer_result.shape"
   ],
   "outputs": [
    {
     "name": "stdout",
     "output_type": "stream",
     "text": [
      "torch.Size([1, 256, 64])\n"
     ]
    }
   ],
   "execution_count": 57
  },
  {
   "cell_type": "markdown",
   "id": "9a16e020",
   "metadata": {},
   "source": [
    "### Positional embeddings (2p)"
   ]
  },
  {
   "cell_type": "markdown",
   "id": "ec405abd",
   "metadata": {},
   "source": [
    "Positional embeddings is a way to give transformer information about token orders. You can either learn good embeddings by SGD or use some scheme for embeddings generation. The most popular scheme is sinusoidal embeddings:\n",
    "\n",
    "$$\\text{emb}(p, 2i) = \\sin(\\frac{p}{10000^{2i/d}})$$\n",
    "$$\\text{emb}(p, 2i + 1) = \\cos(\\frac{p}{10000^{2i/d}})$$\n",
    "where p, 2i, 2i+1 - indices of embedding element, d - embedding dimension\n",
    "\n",
    "Tranditional way of using embeddings in pytorch is by `torch.nn.Embedding`. But in our case its simplier to use more low-level thing `torch.nn.Parameter`. Here is how one can define learnable embeddings."
   ]
  },
  {
   "cell_type": "code",
   "id": "a607f53c",
   "metadata": {
    "ExecuteTime": {
     "end_time": "2025-07-28T07:57:51.091584Z",
     "start_time": "2025-07-28T07:57:51.087273Z"
    }
   },
   "source": [
    "n_tokens = 256\n",
    "embedding_dim = 64\n",
    "\n",
    "# YOUR CODE\n",
    "emb =  torch.nn.Parameter(torch.empty(n_tokens, embedding_dim)) #using empty to create an uninitialised tensor to use truncated normal to fill the tensor \n",
    "\n",
    "_ = torch.nn.init.trunc_normal_(emb, std=0.2)"
   ],
   "outputs": [],
   "execution_count": 58
  },
  {
   "cell_type": "code",
   "id": "1553d647",
   "metadata": {
    "ExecuteTime": {
     "end_time": "2025-07-28T07:57:51.541994Z",
     "start_time": "2025-07-28T07:57:51.538277Z"
    }
   },
   "source": [
    "print(emb.std(), emb.shape)"
   ],
   "outputs": [
    {
     "name": "stdout",
     "output_type": "stream",
     "text": [
      "tensor(0.2001, grad_fn=<StdBackward0>) torch.Size([256, 64])\n"
     ]
    }
   ],
   "execution_count": 59
  },
  {
   "cell_type": "markdown",
   "id": "e9879388",
   "metadata": {},
   "source": [
    "### Class token and classification head"
   ]
  },
  {
   "cell_type": "markdown",
   "id": "53167f24",
   "metadata": {},
   "source": [
    "Vanilla Vision Transformer uses a rather unusual way how to get the embedding of the whole image for the final prediction. It adds one more token, named as class-token, with its own positional embedding and takes its features as the final embedding of image. Alternative approach that comes from CNN is to use global average pooling for image embeddings obtaining. While being more simple to implement, global average pooling introduces a shortcut how different patches can communicates between each other (in vanilla ViT all the inter-patch relations can be learned only through attention blocks).\n",
    "\n",
    "However in modern papers you can meet the both approaces equally likely.\n",
    "\n",
    "Adding class token in pytorch is simple thing. You can either add one more embedding to `nn.Parameter` for positional encoders or create one more `nn.Parameter` module for class token only."
   ]
  },
  {
   "cell_type": "code",
   "id": "356f572b",
   "metadata": {
    "ExecuteTime": {
     "end_time": "2025-07-28T07:57:52.172662Z",
     "start_time": "2025-07-28T07:57:52.168625Z"
    }
   },
   "source": [
    "embedding_dim = 64\n",
    "class_emb = torch.nn.Parameter(torch.empty((1, embedding_dim)), requires_grad=True)\n",
    "torch.nn.init.trunc_normal_(class_emb, std=0.2)\n",
    "\n",
    "print(class_emb[0].shape, class_emb.shape)"
   ],
   "outputs": [
    {
     "name": "stdout",
     "output_type": "stream",
     "text": [
      "torch.Size([64]) torch.Size([1, 64])\n"
     ]
    }
   ],
   "execution_count": 60
  },
  {
   "cell_type": "markdown",
   "id": "93121d04",
   "metadata": {},
   "source": [
    "### Vision Transformer: putting it all together (3p)"
   ]
  },
  {
   "cell_type": "code",
   "id": "ccaab8eb",
   "metadata": {
    "ExecuteTime": {
     "end_time": "2025-07-28T07:59:22.317103Z",
     "start_time": "2025-07-28T07:59:22.307744Z"
    }
   },
   "source": [
    "class VisionTransformer(nn.Module):\n",
    "    def __init__(self,\n",
    "                 input_height, input_width,\n",
    "                 n_input_channels,\n",
    "                 embedding_dim,\n",
    "                 num_layers,\n",
    "                 num_heads,\n",
    "                 num_classes=1000,\n",
    "                 mlp_ratio=4.0,\n",
    "                 dropout=0.1,\n",
    "                 attention_dropout=0.1,\n",
    "                 stochastic_depth=0.1):\n",
    "        super().__init__()\n",
    "        \n",
    "        # YOUR CODE\n",
    "        # 1. Tokenizer\n",
    "        self.tokenizer = Tokenizer(\n",
    "            input_height=input_height,\n",
    "            input_width=input_width,\n",
    "            output_height=input_height,   # or input_height // patch_size if patching\n",
    "            output_width=input_width,     # same for width\n",
    "            n_input_channels=n_input_channels,\n",
    "            embedding_dim=embedding_dim\n",
    "        )\n",
    "\n",
    "        \n",
    "        num_patches = (input_height // self.tokenizer.patch_size) * (input_width // self.tokenizer.patch_size)\n",
    "\n",
    "        \n",
    "        # 2. Positional embeddings\n",
    "        self.positional_embeddings = nn.Parameter(torch.empty(1, num_patches + 1, embedding_dim)) #Calculates how many patch tokens the image is split into.\n",
    "        torch.nn.init.trunc_normal_(self.positional_embeddings, std=0.2)\n",
    "        \n",
    "        # 3. Class token\n",
    "        self.class_embedding = torch.nn.Parameter(torch.empty((1, embedding_dim)), requires_grad=True)\n",
    "        torch.nn.init.trunc_normal_(self.class_embedding, std=0.2)\n",
    "\n",
    "        # 4. TransformerEncoder \n",
    "        mlp_size = int(embedding_dim * mlp_ratio)\n",
    "        self.blocks = nn.Sequential(*[\n",
    "            TransformerEncoder(\n",
    "                embedding_dim=embedding_dim,\n",
    "                num_heads=num_heads,\n",
    "                mlp_size=mlp_size,\n",
    "                dropout=dropout,\n",
    "                attention_dropout=attention_dropout\n",
    "                )for i in range(num_layers)\n",
    "        ])\n",
    "        \n",
    "        # 5. we will need more dropout and normalization!\n",
    "        self.dropout = nn.Dropout(p=dropout)\n",
    "        self.norm = nn.LayerNorm(embedding_dim)\n",
    "\n",
    "        # 6. layer for the final prediction\n",
    "        self.fc = nn.Linear(embedding_dim, num_classes)\n",
    "\n",
    "    def forward(self, x):\n",
    "        # 1. tokenizer\n",
    "        patch_embeddings = self.tokenizer(x)  # [B, 256, D]\n",
    "        \n",
    "        # 2. add class token\n",
    "        B = patch_embeddings.size(0)\n",
    "        cls_token = self.class_embedding.expand(B, 1, -1)  # [B, 1, D]\n",
    "        x = torch.cat([cls_token, patch_embeddings], dim=1)  # [B, 257, D]\n",
    "    \n",
    "        # 3. position embeddings\n",
    "        x = x + self.positional_embeddings  # now both are [B, 257, D]\n",
    "    \n",
    "        # 4. dropout\n",
    "        x = self.dropout(x)\n",
    "    \n",
    "        # 5. transformer blocks\n",
    "        for block in self.blocks:\n",
    "            x = block(x)\n",
    "    \n",
    "        # 6. norm and final prediction\n",
    "        x = self.norm(x)\n",
    "        cls_out = x[:, 0]  # [B, D]\n",
    "        return self.fc(cls_out)\n"
   ],
   "outputs": [],
   "execution_count": 67
  },
  {
   "cell_type": "code",
   "id": "9adde091",
   "metadata": {
    "ExecuteTime": {
     "end_time": "2025-07-28T07:59:22.478181Z",
     "start_time": "2025-07-28T07:59:22.471077Z"
    }
   },
   "source": [
    "input_height = 16\n",
    "input_width = 16\n",
    "n_input_channels = 1\n",
    "vit = VisionTransformer(input_height, input_width,\n",
    "                 #n_tokens=4,\n",
    "                 n_input_channels=n_input_channels,\n",
    "                 embedding_dim=32,\n",
    "                 num_layers=2,\n",
    "                 num_heads=2,\n",
    "                 num_classes=10,\n",
    "                 mlp_ratio=2.0,\n",
    "                 dropout=0.1,\n",
    "                 attention_dropout=0.1,\n",
    "                 stochastic_depth=0.1)"
   ],
   "outputs": [],
   "execution_count": 68
  },
  {
   "cell_type": "code",
   "id": "f69ac628",
   "metadata": {
    "ExecuteTime": {
     "end_time": "2025-07-28T07:59:22.706654Z",
     "start_time": "2025-07-28T07:59:22.694838Z"
    }
   },
   "source": [
    "fake_batch = torch.rand((1, n_input_channels, input_height, input_width))\n",
    "print(fake_batch.shape)\n",
    "\n",
    "result = vit(fake_batch)\n",
    "print(result.shape)\n",
    "print(result)"
   ],
   "outputs": [
    {
     "name": "stdout",
     "output_type": "stream",
     "text": [
      "torch.Size([1, 1, 16, 16])\n",
      "torch.Size([1, 10])\n",
      "tensor([[ 0.1446, -0.0488, -0.1795,  1.1439, -0.3029, -0.0131,  0.0605, -0.0669,\n",
      "         -0.3321, -0.0419]], grad_fn=<AddmmBackward0>)\n"
     ]
    }
   ],
   "execution_count": 69
  },
  {
   "metadata": {},
   "cell_type": "code",
   "outputs": [],
   "execution_count": null,
   "source": "",
   "id": "17e662d1c5bde065"
  }
 ],
 "metadata": {
  "kernelspec": {
   "display_name": "base",
   "language": "python",
   "name": "python3"
  },
  "language_info": {
   "codemirror_mode": {
    "name": "ipython",
    "version": 3
   },
   "file_extension": ".py",
   "mimetype": "text/x-python",
   "name": "python",
   "nbconvert_exporter": "python",
   "pygments_lexer": "ipython3",
   "version": "3.11.5"
  }
 },
 "nbformat": 4,
 "nbformat_minor": 5
}
