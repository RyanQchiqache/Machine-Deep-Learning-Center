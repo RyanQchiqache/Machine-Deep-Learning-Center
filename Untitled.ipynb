{
 "cells": [
  {
   "cell_type": "markdown",
   "id": "ca476407",
   "metadata": {},
   "source": [
    "# Understanding the K-Nearest Neighbors (KNN) Algorithm\n",
    "\n",
    "The K-Nearest Neighbors (KNN) algorithm is a simple, yet powerful machine learning algorithm that is used for both classification and regression. However, it is more widely used in classification problems in the industry. In this notebook, we will cover:\n",
    "\n",
    "- Why KNN is a necessary algorithm in a data scientist's toolbox.\n",
    "- The fundamentals of the KNN algorithm.\n",
    "- How to choose the appropriate number of neighbors 'K'.\n",
    "- Situations in which KNN is a suitable model choice.\n",
    "- The mechanism of the KNN algorithm.\n",
    "- A practical use case: Predicting diabetes using KNN.\n"
   ]
  },
  {
   "cell_type": "markdown",
   "id": "6757f844",
   "metadata": {},
   "source": [
    "## Why Do We Need KNN?\n",
    "\n",
    "KNN is valuable for several reasons:\n",
    "\n",
    "- **Ease of understanding and implementation**: The logic behind KNN is simple to grasp, making it an excellent starting point for practitioners to start exploring machine learning models.\n",
    "- **No assumption about data**: KNN is a non-parametric algorithm, which means it does not make any assumptions about the underlying data distribution. This is helpful with real-world data that often does not follow theoretical assumptions.\n",
    "- **Versatility**: It can be used for classification, regression, and search (as in recommender systems).\n"
   ]
  },
  {
   "cell_type": "markdown",
   "id": "0325dd94",
   "metadata": {},
   "source": [
    "## What is KNN?\n",
    "\n",
    "KNN works by finding the nearest data points in the training set to the new point that you want to classify. The 'K' in KNN is the number of nearest neighbors you want to consider. The category of the majority of the K nearest neighbors is the category into which the new data point is classified.\n"
   ]
  },
  {
   "cell_type": "markdown",
   "id": "049bce08",
   "metadata": {},
   "source": [
    "## How Do We Choose the Factor 'K'?\n",
    "\n",
    "Choosing the right value for 'K' is critical to the performance of the algorithm. A smaller 'K' value can make the algorithm sensitive to noise in the data, while a larger 'K' value can smooth out the prediction but might blur the boundaries between classes. Cross-validation is typically used to select an optimal 'K' value that provides a balance between bias and variance.\n"
   ]
  },
  {
   "cell_type": "markdown",
   "id": "a4eb68bd",
   "metadata": {},
   "source": [
    "## When Do We Use KNN?\n",
    "\n",
    "KNN can be a good choice when:\n",
    "\n",
    "- You have a labeled dataset.\n",
    "- The dataset is not too large, as KNN can be slow to predict with many data points.\n",
    "- The problem is a classification problem, though KNN can be used for regression as well.\n"
   ]
  },
  {
   "cell_type": "markdown",
   "id": "2670f80d",
   "metadata": {},
   "source": [
    "## How Does KNN Algorithm Work?\n",
    "\n",
    "When a new data point is introduced, the algorithm looks through the entire training set for the K most similar instances (the neighbors) and assigns the new data point to the class most common among its K nearest neighbors.\n"
   ]
  },
  {
   "cell_type": "markdown",
   "id": "b7d72212",
   "metadata": {},
   "source": [
    "## Use Case: Predicting Diabetes\n",
    "\n",
    "Let's explore a practical example where we apply the KNN algorithm to predict whether a person will have diabetes based on certain diagnostics measurements.\n"
   ]
  },
  {
   "cell_type": "markdown",
   "id": "409641b5",
   "metadata": {},
   "source": [
    "# K-Nearest Neighbors (KNN) for Diabetes Prediction\n",
    "\n",
    "In this example, we'll use the K-Nearest Neighbors algorithm to build a model that can predict whether a person has diabetes based on diagnostic measurements. This is a binary classification problem where we will predict one of two possible outcomes: diabetic or not diabetic.\n"
   ]
  },
  {
   "cell_type": "code",
   "execution_count": 12,
   "id": "bbe31634",
   "metadata": {},
   "outputs": [],
   "source": [
    "# Import the necessary libraries\n",
    "import numpy as np\n",
    "import pandas as pd\n",
    "from sklearn.model_selection import train_test_split\n",
    "from sklearn.neighbors import KNeighborsClassifier\n",
    "from sklearn.preprocessing import StandardScaler\n",
    "from sklearn.metrics import confusion_matrix, classification_report, accuracy_score\n",
    "import matplotlib.pyplot as plt\n",
    "import seaborn as sns\n"
   ]
  },
  {
   "cell_type": "markdown",
   "id": "16119662",
   "metadata": {},
   "source": [
    "## Data Loading\n",
    "\n",
    "We'll start by loading the Pima Indians Diabetes dataset, which includes various diagnostic measures that can be used to predict diabetes.\n"
   ]
  },
  {
   "cell_type": "code",
   "execution_count": 14,
   "id": "18297a7a",
   "metadata": {},
   "outputs": [],
   "source": [
    "\n",
    "df = pd.read_csv('learningML/diabetes.csv')\n"
   ]
  },
  {
   "cell_type": "markdown",
   "id": "461587e4",
   "metadata": {},
   "source": [
    "## Data Exploration\n",
    "\n",
    "It's essential to explore the data to understand the distribution and check for any inconsistencies.\n"
   ]
  },
  {
   "cell_type": "code",
   "execution_count": 15,
   "id": "f1595159",
   "metadata": {},
   "outputs": [
    {
     "data": {
      "text/html": [
       "<div>\n",
       "<style scoped>\n",
       "    .dataframe tbody tr th:only-of-type {\n",
       "        vertical-align: middle;\n",
       "    }\n",
       "\n",
       "    .dataframe tbody tr th {\n",
       "        vertical-align: top;\n",
       "    }\n",
       "\n",
       "    .dataframe thead th {\n",
       "        text-align: right;\n",
       "    }\n",
       "</style>\n",
       "<table border=\"1\" class=\"dataframe\">\n",
       "  <thead>\n",
       "    <tr style=\"text-align: right;\">\n",
       "      <th></th>\n",
       "      <th>Pregnancies</th>\n",
       "      <th>Glucose</th>\n",
       "      <th>BloodPressure</th>\n",
       "      <th>SkinThickness</th>\n",
       "      <th>Insulin</th>\n",
       "      <th>BMI</th>\n",
       "      <th>DiabetesPedigreeFunction</th>\n",
       "      <th>Age</th>\n",
       "      <th>Outcome</th>\n",
       "    </tr>\n",
       "  </thead>\n",
       "  <tbody>\n",
       "    <tr>\n",
       "      <th>0</th>\n",
       "      <td>6</td>\n",
       "      <td>148</td>\n",
       "      <td>72</td>\n",
       "      <td>35</td>\n",
       "      <td>0</td>\n",
       "      <td>33.6</td>\n",
       "      <td>0.627</td>\n",
       "      <td>50</td>\n",
       "      <td>1</td>\n",
       "    </tr>\n",
       "    <tr>\n",
       "      <th>1</th>\n",
       "      <td>1</td>\n",
       "      <td>85</td>\n",
       "      <td>66</td>\n",
       "      <td>29</td>\n",
       "      <td>0</td>\n",
       "      <td>26.6</td>\n",
       "      <td>0.351</td>\n",
       "      <td>31</td>\n",
       "      <td>0</td>\n",
       "    </tr>\n",
       "    <tr>\n",
       "      <th>2</th>\n",
       "      <td>8</td>\n",
       "      <td>183</td>\n",
       "      <td>64</td>\n",
       "      <td>0</td>\n",
       "      <td>0</td>\n",
       "      <td>23.3</td>\n",
       "      <td>0.672</td>\n",
       "      <td>32</td>\n",
       "      <td>1</td>\n",
       "    </tr>\n",
       "    <tr>\n",
       "      <th>3</th>\n",
       "      <td>1</td>\n",
       "      <td>89</td>\n",
       "      <td>66</td>\n",
       "      <td>23</td>\n",
       "      <td>94</td>\n",
       "      <td>28.1</td>\n",
       "      <td>0.167</td>\n",
       "      <td>21</td>\n",
       "      <td>0</td>\n",
       "    </tr>\n",
       "    <tr>\n",
       "      <th>4</th>\n",
       "      <td>0</td>\n",
       "      <td>137</td>\n",
       "      <td>40</td>\n",
       "      <td>35</td>\n",
       "      <td>168</td>\n",
       "      <td>43.1</td>\n",
       "      <td>2.288</td>\n",
       "      <td>33</td>\n",
       "      <td>1</td>\n",
       "    </tr>\n",
       "  </tbody>\n",
       "</table>\n",
       "</div>"
      ],
      "text/plain": [
       "   Pregnancies  Glucose  BloodPressure  SkinThickness  Insulin   BMI  \\\n",
       "0            6      148             72             35        0  33.6   \n",
       "1            1       85             66             29        0  26.6   \n",
       "2            8      183             64              0        0  23.3   \n",
       "3            1       89             66             23       94  28.1   \n",
       "4            0      137             40             35      168  43.1   \n",
       "\n",
       "   DiabetesPedigreeFunction  Age  Outcome  \n",
       "0                     0.627   50        1  \n",
       "1                     0.351   31        0  \n",
       "2                     0.672   32        1  \n",
       "3                     0.167   21        0  \n",
       "4                     2.288   33        1  "
      ]
     },
     "execution_count": 15,
     "metadata": {},
     "output_type": "execute_result"
    }
   ],
   "source": [
    "# Display the first few rows of the dataset\n",
    "df.head()\n"
   ]
  },
  {
   "cell_type": "markdown",
   "id": "8bd409ba",
   "metadata": {},
   "source": [
    "## Data Preprocessing\n",
    "\n",
    "We'll preprocess the data by scaling the features since KNN performs better with normalized data.\n"
   ]
  },
  {
   "cell_type": "code",
   "execution_count": 16,
   "id": "11bcc25a",
   "metadata": {},
   "outputs": [],
   "source": [
    "# Separate the features from the target attribute\n",
    "X = df.drop('Outcome', axis=1)\n",
    "y = df['Outcome']\n",
    "\n",
    "# Scale the features\n",
    "scaler = StandardScaler()\n",
    "X_scaled = scaler.fit_transform(X)\n"
   ]
  },
  {
   "cell_type": "markdown",
   "id": "6a78033a",
   "metadata": {},
   "source": [
    "## Split the Dataset\n",
    "\n",
    "Next, we split the dataset into a training set and a test set.\n"
   ]
  },
  {
   "cell_type": "code",
   "execution_count": 17,
   "id": "34c743f6",
   "metadata": {},
   "outputs": [],
   "source": [
    "# Split the dataset into training and testing sets\n",
    "X_train, X_test, y_train, y_test = train_test_split(X_scaled, y, test_size=0.2, random_state=42)\n"
   ]
  },
  {
   "cell_type": "markdown",
   "id": "029844e6",
   "metadata": {},
   "source": [
    "## Model Training\n",
    "\n",
    "We'll find the optimal value of K by using cross-validation.\n"
   ]
  },
  {
   "cell_type": "code",
   "execution_count": 21,
   "id": "382423da",
   "metadata": {},
   "outputs": [
    {
     "name": "stdout",
     "output_type": "stream",
     "text": [
      "The optimal number of neighbors is: 11\n"
     ]
    },
    {
     "data": {
      "image/png": "[encoded data removed]",
      "text/plain": [
       "<Figure size 1000x600 with 1 Axes>"
      ]
     },
     "metadata": {},
     "output_type": "display_data"
    }
   ],
   "source": [
    "from sklearn.model_selection import cross_val_score\n",
    "\n",
    "# List to hold the cross-validation scores\n",
    "cv_scores = []\n",
    "\n",
    "# Try different values for K\n",
    "for k in range(1, 21):\n",
    "    knn = KNeighborsClassifier(n_neighbors=k)\n",
    "    scores = cross_val_score(knn, X_train, y_train, cv=5, scoring='accuracy')\n",
    "    cv_scores.append(scores.mean())\n",
    "\n",
    "# Find the optimal K\n",
    "# The optimal K is the one that has the maximum average \n",
    "# accuracy on cross-validation.\n",
    "optimal_k = cv_scores.index(max(cv_scores)) + 1\n",
    "print(\"The optimal number of neighbors is:\", optimal_k)\n",
    "\n",
    "# Plot the CV accuracy for each K\n",
    "plt.figure(figsize=(10, 6))\n",
    "plt.plot(range(1, 21), cv_scores, marker='o', linestyle='dashed')\n",
    "plt.xlabel('Number of Neighbors K')\n",
    "plt.ylabel('CV Accuracy')\n",
    "plt.show()\n"
   ]
  },
  {
   "cell_type": "markdown",
   "id": "3597793d",
   "metadata": {},
   "source": [
    "## Model Evaluation\n",
    "\n",
    "We'll evaluate the model on the test set.\n"
   ]
  },
  {
   "cell_type": "code",
   "execution_count": 22,
   "id": "e8616692",
   "metadata": {},
   "outputs": [
    {
     "name": "stdout",
     "output_type": "stream",
     "text": [
      "[[78 21]\n",
      " [23 32]]\n",
      "              precision    recall  f1-score   support\n",
      "\n",
      "           0       0.77      0.79      0.78        99\n",
      "           1       0.60      0.58      0.59        55\n",
      "\n",
      "    accuracy                           0.71       154\n",
      "   macro avg       0.69      0.68      0.69       154\n",
      "weighted avg       0.71      0.71      0.71       154\n",
      "\n",
      "Accuracy: 71.43%\n"
     ]
    }
   ],
   "source": [
    "# Train the KNN classifier with the optimal K\n",
    "knn = KNeighborsClassifier(n_neighbors=optimal_k)\n",
    "knn.fit(X_train, y_train)\n",
    "\n",
    "# Predict on the test data\n",
    "y_pred = knn.predict(X_test)\n",
    "\n",
    "# Print the evaluation metrics\n",
    "print(confusion_matrix(y_test, y_pred))\n",
    "print(classification_report(y_test, y_pred))\n",
    "print(f'Accuracy: {accuracy_score(y_test, y_pred) * 100:.2f}%')\n"
   ]
  },
  {
   "metadata": {},
   "cell_type": "code",
   "source": "",
   "id": "d88352f6e89ce395",
   "outputs": [],
   "execution_count": null
  }
 ],
 "metadata": {
  "kernelspec": {
   "display_name": "Python 3 (ipykernel)",
   "language": "python",
   "name": "python3"
  },
  "language_info": {
   "codemirror_mode": {
    "name": "ipython",
    "version": 3
   },
   "file_extension": ".py",
   "mimetype": "text/x-python",
   "name": "python",
   "nbconvert_exporter": "python",
   "pygments_lexer": "ipython3",
   "version": "3.10.9"
  }
 },
 "nbformat": 4,
 "nbformat_minor": 5
}
