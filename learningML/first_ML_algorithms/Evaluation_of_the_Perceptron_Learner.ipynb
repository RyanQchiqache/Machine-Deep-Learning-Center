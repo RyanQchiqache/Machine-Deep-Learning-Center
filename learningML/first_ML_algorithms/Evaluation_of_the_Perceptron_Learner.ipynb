{
 "cells": [
  {
   "cell_type": "markdown",
   "metadata": {},
   "source": "#  Evaluation of the Perceptron Learner"
  },
  {
   "cell_type": "code",
   "metadata": {
    "ExecuteTime": {
     "end_time": "2024-05-22T14:47:44.726952Z",
     "start_time": "2024-05-22T14:47:44.668332Z"
    }
   },
   "source": [
    "import numpy as np\n",
    "import sklearn.linear_model as lm\n",
    "import matplotlib.pyplot as plt"
   ],
   "outputs": [],
   "execution_count": 15
  },
  {
   "cell_type": "markdown",
   "metadata": {},
   "source": [
    "## Load `digits` dataset"
   ]
  },
  {
   "cell_type": "code",
   "metadata": {
    "ExecuteTime": {
     "end_time": "2024-05-22T14:47:46.578326Z",
     "start_time": "2024-05-22T14:47:46.558399Z"
    }
   },
   "source": [
    "data = np.char.encode(np.loadtxt(\"/Users/ryanqchiqache/PycharmProjects/Machine-Learning-Learning-Center/learningML/data/digits.text\", dtype=str), \"ascii\") # Read data as array of ASCII strings\n",
    "data = (data.view(\"S1\") == b'1').astype(np.int8).reshape((-1, 1024)) # Convert strings into 8-bit integer arrays\n",
    "classes = np.array([0,1,8])\n",
    "y = np.repeat(classes.reshape((-1,1)), 50, axis=-1).reshape(-1) # Array of 50 \"0\", 50 \"1\"s and 50 \"8\"s.."
   ],
   "outputs": [],
   "execution_count": 16
  },
  {
   "cell_type": "code",
   "metadata": {
    "ExecuteTime": {
     "end_time": "2024-05-22T12:55:14.145287Z",
     "start_time": "2024-05-22T12:55:13.701453Z"
    }
   },
   "source": [
    "def plot_images(data, ys, pred_ys=None):\n",
    "  l = len(data)\n",
    "  fig, axs = plt.subplots(ncols=l)\n",
    "  if l == 1:\n",
    "    axs = [axs]\n",
    "  if pred_ys is None:\n",
    "    pred_ys = [None] * l\n",
    "  for ax, img, y, pred_y in zip(axs, data, ys, pred_ys):\n",
    "    ax.imshow(img.reshape((32,32)))\n",
    "    ax.axis(\"off\")\n",
    "    if pred_y is None:\n",
    "      ax.title.set_text(f\"Label: {y}\")\n",
    "    else:\n",
    "      ax.title.set_text(f\"Label: {y} / Prediction: {pred_y}\")\n",
    "    \n",
    "  plt.show()\n",
    "\n",
    "print(\"Plot of 6 example data points (images) and labels from the dataset:\")\n",
    "example_instances = [0, 10, 50, 60, 100, 110]\n",
    "plot_images(data[example_instances], y[example_instances])"
   ],
   "outputs": [
    {
     "name": "stdout",
     "output_type": "stream",
     "text": [
      "Plot of 6 example data points (images) and labels from the dataset:\n"
     ]
    },
    {
     "data": {
      "text/plain": [
       "<Figure size 640x480 with 6 Axes>"
      ],
      "image/png": "[encoded data removed]"
     },
     "metadata": {},
     "output_type": "display_data"
    }
   ],
   "execution_count": 5
  },
  {
   "cell_type": "markdown",
   "metadata": {},
   "source": [
    "## Partition the dataset for LOO-CV\n",
    "\n",
    "For Leave-one-out Cross Validation, we partition the dataset into 150 train/test splits.\n",
    "Each instance (i.e., image) is used exactly once as a test instance, while the respective remaining instances are used for training."
   ]
  },
  {
   "cell_type": "code",
   "metadata": {
    "ExecuteTime": {
     "end_time": "2024-05-22T12:55:24.926549Z",
     "start_time": "2024-05-22T12:55:24.902123Z"
    }
   },
   "source": [
    "def train_test_split(data, y, idx):\n",
    "  train_data = np.delete(data, [idx], axis=0)\n",
    "  train_y = np.delete(y, [idx])\n",
    "  test_data = data[[idx]]\n",
    "  test_y = y[[idx]]\n",
    "  return train_data, train_y, test_data, test_y\n",
    "\n",
    "cv_partitions = [train_test_split(data, y, idx) for idx in range(data.shape[0])]"
   ],
   "outputs": [],
   "execution_count": 6
  },
  {
   "cell_type": "markdown",
   "metadata": {},
   "source": [
    "`cv_partitions` is a list of 150 train/test splits of the `digits` dataset.\n",
    "Each split is represented as a 4-tuple `(train_data, train_y, test_data, test_y)` containing the training instances + target values and the respective test instance + target value."
   ]
  },
  {
   "cell_type": "markdown",
   "metadata": {},
   "source": [
    "## Training of a `Perceptron` model using scikit-learn"
   ]
  },
  {
   "cell_type": "code",
   "metadata": {
    "ExecuteTime": {
     "end_time": "2024-05-22T12:55:27.606643Z",
     "start_time": "2024-05-22T12:55:27.603053Z"
    }
   },
   "source": [
    "def train_perceptron_model(train_data: np.ndarray, train_y: np.ndarray) -> lm.Perceptron:\n",
    "  model = lm.Perceptron()\n",
    "  model.fit(train_data, train_y)\n",
    "  return model"
   ],
   "outputs": [],
   "execution_count": 7
  },
  {
   "cell_type": "markdown",
   "metadata": {},
   "source": [
    "You can use the `train_perceptron_model` function to train a Perceptron model using the PLA algorithm.\n",
    "- For the one-vs-rest setting, you can obtain the real-valued confidence score for a given test instance by calling `model.decision_function(test_data)`.\n",
    "- For the one-vs-one setting, you can obtain a binary prediction for a given test instance by calling `model.predict(test_data)`. "
   ]
  },
  {
   "cell_type": "markdown",
   "metadata": {},
   "source": [
    "## 1. Evaluation of the One-vs-Rest Approach"
   ]
  },
  {
   "cell_type": "markdown",
   "metadata": {},
   "source": [
    "We begin by evaluating the one-vs-rest approach.\n",
    "For this we have to train three binary classifiers, that are trained to solve the following three classification problems:\n",
    "- `0` vs `{1,8}`\n",
    "- `1` vs `{0,8}`\n",
    "- `8` vs `{0,1}`\n",
    "\n",
    "To train Perceptron models for those three classification tasks, we have to transform our multi-class `digits` dataset into three binary classification datasets.\n",
    "The `multiclass_to_ovr` function shows how this transformation can be done."
   ]
  },
  {
   "cell_type": "code",
   "metadata": {
    "ExecuteTime": {
     "end_time": "2024-05-22T12:55:29.790990Z",
     "start_time": "2024-05-22T12:55:29.784765Z"
    }
   },
   "source": [
    "def multiclass_to_ovr(train_data, train_y, cls):\n",
    "  return train_data, train_y == cls\n",
    "\n",
    "def train_ovr_perceptron_model(train_data, train_y, classes):\n",
    "  models = {\n",
    "    cls: train_perceptron_model(*multiclass_to_ovr(train_data, train_y, cls))\n",
    "    for cls in classes\n",
    "  }\n",
    "  \n",
    "  def predict(test_data: np.ndarray):\n",
    "    predictions = []\n",
    "    # Iterate over test_instances:\n",
    "    for instance in test_data: # CHALLENGE: Vectorize this loop.\n",
    "      max_confidence = np.NINF # negative infinity\n",
    "      max_cls = None\n",
    "      for cls, model in models.items():\n",
    "        confidence = model.decision_function([instance])[0]\n",
    "        if confidence > max_confidence:\n",
    "          max_confidence = confidence\n",
    "          max_cls = cls\n",
    "      predictions.append(max_cls)\n",
    "    return np.array(predictions)\n",
    "  \n",
    "  return predict"
   ],
   "outputs": [],
   "execution_count": 8
  },
  {
   "cell_type": "markdown",
   "metadata": {},
   "source": [
    "The `train_ovr_perceptron_model` function calls the `multiclass_to_ovr` preprocessing function once for each class (`0`, `1`, `8`) and trains a Perceptron model using the `train_perceptron_model` defined above.\n",
    "It returns a function that takes an array of training instances and returns an array containing the classes with the highest confidence for each training instance.\n",
    "\n",
    "To show how `train_ovr_perceptron_model` is used, we now apply it to the first of the 150 LOO-CV train/test splits:"
   ]
  },
  {
   "cell_type": "code",
   "metadata": {
    "ExecuteTime": {
     "end_time": "2024-05-22T12:55:31.690873Z",
     "start_time": "2024-05-22T12:55:31.589638Z"
    }
   },
   "source": [
    "first_train_data, first_train_y, first_test_data, first_test_y = cv_partitions[0]\n",
    "\n",
    "predictor = train_ovr_perceptron_model(first_train_data, first_train_y, classes)\n",
    "first_test_pred_y = predictor(first_test_data)\n",
    "plot_images(first_test_data, first_test_y, first_test_pred_y)"
   ],
   "outputs": [
    {
     "data": {
      "text/plain": [
       "<Figure size 640x480 with 1 Axes>"
      ],
      "image/png": "[encoded data removed]"
     },
     "metadata": {},
     "output_type": "display_data"
    }
   ],
   "execution_count": 9
  },
  {
   "cell_type": "markdown",
   "metadata": {},
   "source": [
    "**Task:** Use the OvR approach to train a multiclass prediction model for all 150 LOO-CV partitions and count the total number of errors."
   ]
  },
  {
   "cell_type": "code",
   "metadata": {
    "ExecuteTime": {
     "end_time": "2024-05-22T12:55:34.924495Z",
     "start_time": "2024-05-22T12:55:33.266958Z"
    }
   },
   "source": [
    "import numpy as np\n",
    "\n",
    "def loo_cv_eval(train_model, cv_partitions, classes):\n",
    "    errors = 0\n",
    "    error_data, error_pred, error_y = [], [], []\n",
    "\n",
    "    for partition in cv_partitions:\n",
    "        train_data, train_y, test_data, test_y = partition\n",
    "        predictor = train_model(train_data, train_y, classes)\n",
    "        test_pred_y = predictor(test_data)\n",
    "\n",
    "        error_mask = test_pred_y != test_y\n",
    "        errors += np.sum(error_mask)\n",
    "        error_data.extend(test_data[error_mask])  \n",
    "        error_pred.extend(test_pred_y[error_mask])  \n",
    "        error_y.extend(test_y[error_mask]) \n",
    "    return errors, error_data, error_pred, error_y\n",
    "\n",
    "errors, error_data, error_pred, error_y = loo_cv_eval(train_ovr_perceptron_model, cv_partitions, classes)\n",
    "\n",
    "print(f\"The OvR approach results in {errors} errors : \")\n",
    "plot_images(error_data, error_y, error_pred)"
   ],
   "outputs": [
    {
     "name": "stdout",
     "output_type": "stream",
     "text": [
      "The OvR approach results in 4 errors : \n"
     ]
    },
    {
     "data": {
      "text/plain": [
       "<Figure size 640x480 with 4 Axes>"
      ],
      "image/png": "[encoded data removed]"
     },
     "metadata": {},
     "output_type": "display_data"
    }
   ],
   "execution_count": 10
  },
  {
   "metadata": {},
   "cell_type": "markdown",
   "source": ""
  },
  {
   "cell_type": "markdown",
   "metadata": {},
   "source": [
    "## 2. Evaluation of the One-vs-One Approach"
   ]
  },
  {
   "cell_type": "markdown",
   "metadata": {},
   "source": [
    "Next, we evaluate the one-vs-one approach. For this we have to train a binary classifier for each pair of classes:\n",
    "- `0` vs `1`\n",
    "- `0` vs `8`\n",
    "- `1` vs `8`\n",
    "\n",
    "As we have already seen with the one-vs-rest approach, we again have to preprocess the dataset and turn it into three binary classification datasets for training."
   ]
  },
  {
   "cell_type": "code",
   "metadata": {
    "ExecuteTime": {
     "end_time": "2024-05-22T12:55:36.193702Z",
     "start_time": "2024-05-22T12:55:36.189726Z"
    }
   },
   "source": [
    "def multiclass_to_ovo(train_data, train_y, cls_a, cls_b):\n",
    "  mask = (train_y == cls_a) | (train_y == cls_b) # Boolean mask marking all instances that have class a or class b.\n",
    "  masked_data = train_data[mask]\n",
    "  masked_y = train_y[mask] == cls_a\n",
    "  return masked_data, masked_y"
   ],
   "outputs": [],
   "execution_count": 11
  },
  {
   "cell_type": "markdown",
   "metadata": {},
   "source": [
    "The `multiclass_to_ovo` function transforms the given instances and labels into a binary classification task for the classes `cls_a` and `cls_b`.\n",
    "Instances that are of neither `cls_a` nor `cls_b` are removed.\n",
    "\n",
    "**Task:** Use this preprocessing function to train a OvO each LOO-CV partition."
   ]
  },
  {
   "cell_type": "code",
   "metadata": {
    "ExecuteTime": {
     "end_time": "2024-05-22T12:55:37.392709Z",
     "start_time": "2024-05-22T12:55:37.387653Z"
    }
   },
   "source": [
    "def train_ovo_perceptron_model(train_data, train_y, classes):\n",
    "    models = {\n",
    "        (a,b) : train_perceptron_model(*multiclass_to_ovo(train_data, train_y,classes[a],classes[b]))\n",
    "        \n",
    "        for a in range(len(classes))\n",
    "        for b in range(a +1 ,len(classes))\n",
    "    }\n",
    "    \n",
    "    def predict(test_data: np.ndarray):\n",
    "        votes = np.zeros((len(test_data), len(classes)) , dtype= np.float32)\n",
    "        idxs = np.arrange(len(test_data))\n",
    "        for (a,b), m in models.items():\n",
    "            pred = m.predict(test_data)\n",
    "            vote_idxs = np.where(pred , a, b)\n",
    "            votes[idxs,vote_idxs] += np.abs(m.decision_function(test_data)[0])\n",
    "        pred_idxs = np.argmax(votes, axis = -1)\n",
    "        pred_classes = classes[pred_idxs]\n",
    "        return pred_classes\n",
    "    \n",
    "    return predict\n",
    "            "
   ],
   "outputs": [],
   "execution_count": 12
  },
  {
   "metadata": {
    "ExecuteTime": {
     "end_time": "2024-05-22T12:55:39.799943Z",
     "start_time": "2024-05-22T12:55:38.038475Z"
    }
   },
   "cell_type": "code",
   "source": [
    "errors, error_data,error_pred, error_y = loo_cv_eval(train_ovr_perceptron_model, cv_partitions, classes)\n",
    "print(f\"The Ov0 approach results in {errors} errors : \")\n",
    "plot_images(error_data, error_y, error_pred)"
   ],
   "outputs": [
    {
     "name": "stdout",
     "output_type": "stream",
     "text": [
      "The Ov0 approach results in 4 errors : \n"
     ]
    },
    {
     "data": {
      "text/plain": [
       "<Figure size 640x480 with 4 Axes>"
      ],
      "image/png": "[encoded data removed]"
     },
     "metadata": {},
     "output_type": "display_data"
    }
   ],
   "execution_count": 13
  },
  {
   "metadata": {
    "ExecuteTime": {
     "end_time": "2024-05-22T12:55:40.894039Z",
     "start_time": "2024-05-22T12:55:39.802561Z"
    }
   },
   "cell_type": "code",
   "source": [
    "import itertools\n",
    "\n",
    "# Define the relation R0\n",
    "R0 = {(2,1), (3,1), (4,2), (5,1), (6,2), (6,3), (7,1), (8,4), (9,3), (10,2), (10,5)}\n",
    "\n",
    "# Extract all unique elements from the relation\n",
    "elements = set()\n",
    "for a, b in R0:\n",
    "    elements.add(a)\n",
    "    elements.add(b)\n",
    "elements = list(elements)  # Convert set to list for permutation generation\n",
    "\n",
    "# Function to check if a permutation is a valid linear extension\n",
    "def is_valid_extension(permutation):\n",
    "    for (a, b) in R0:\n",
    "        if permutation.index(a) > permutation.index(b):\n",
    "            return False\n",
    "    return True\n",
    "\n",
    "# Generate all permutations of the elements\n",
    "all_permutations = itertools.permutations(elements)\n",
    "\n",
    "# Filter out the valid linear extensions\n",
    "valid_extensions = []\n",
    "for perm in all_permutations:\n",
    "    if is_valid_extension(perm):\n",
    "        valid_extensions.append(perm)\n",
    "        if len(valid_extensions) == 2:  # Optionally limit to first two valid extensions for efficiency\n",
    "            break\n",
    "\n",
    "# Output the valid linear extensions\n",
    "print(\"Valid Linear Extensions:\")\n",
    "for extension in valid_extensions:\n",
    "    print(extension)"
   ],
   "outputs": [
    {
     "name": "stdout",
     "output_type": "stream",
     "text": [
      "Valid Linear Extensions:\n",
      "(6, 7, 8, 4, 9, 3, 10, 2, 5, 1)\n",
      "(6, 7, 8, 4, 9, 3, 10, 5, 2, 1)\n"
     ]
    }
   ],
   "execution_count": 14
  },
  {
   "metadata": {},
   "cell_type": "code",
   "outputs": [],
   "execution_count": null,
   "source": ""
  }
 ],
 "metadata": {
  "kernelspec": {
   "display_name": "Python 3.11.0 64-bit",
   "language": "python",
   "name": "python3"
  },
  "language_info": {
   "codemirror_mode": {
    "name": "ipython",
    "version": 3
   },
   "file_extension": ".py",
   "mimetype": "text/x-python",
   "name": "python",
   "nbconvert_exporter": "python",
   "pygments_lexer": "ipython3",
   "version": "3.11.0"
  },
  "orig_nbformat": 4,
  "vscode": {
   "interpreter": {
    "hash": "bf1d2f64194ace10997c434eb354cb799c52230f6de3baccf2e25d391e28e00a"
   }
  }
 },
 "nbformat": 4,
 "nbformat_minor": 2
}
