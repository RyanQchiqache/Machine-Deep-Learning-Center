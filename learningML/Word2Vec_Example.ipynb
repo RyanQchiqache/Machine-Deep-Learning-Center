{
 "cells": [
  {
   "metadata": {},
   "cell_type": "markdown",
   "source": "### Simple Example use of Word2Vec using gensim and nltk",
   "id": "9cef0e75a02f239d"
  },
  {
   "cell_type": "code",
   "id": "initial_id",
   "metadata": {
    "collapsed": true,
    "ExecuteTime": {
     "end_time": "2024-05-22T13:06:12.056875Z",
     "start_time": "2024-05-22T13:05:48.283454Z"
    }
   },
   "source": [
    "import nltk\n",
    "from nltk.corpus import brown\n",
    "from gensim.models import Word2Vec\n"
   ],
   "outputs": [],
   "execution_count": 1
  },
  {
   "metadata": {
    "ExecuteTime": {
     "end_time": "2024-05-22T13:20:59.297411Z",
     "start_time": "2024-05-22T13:20:57.429741Z"
    }
   },
   "cell_type": "code",
   "source": [
    "sentence = brown.sents()\n",
    "print(f\"Number of sentences in the Brown Corpus is : {len(sentence)}\")"
   ],
   "id": "24078c923f6a5f50",
   "outputs": [
    {
     "name": "stdout",
     "output_type": "stream",
     "text": [
      "Number of sentences in the Brown Corpus is : 57340\n"
     ]
    }
   ],
   "execution_count": 4
  },
  {
   "metadata": {},
   "cell_type": "markdown",
   "source": "## Training the Word2Vec Model :",
   "id": "bbf1e7237fcc968a"
  },
  {
   "metadata": {
    "ExecuteTime": {
     "end_time": "2024-05-22T13:22:35.801250Z",
     "start_time": "2024-05-22T13:22:21.741440Z"
    }
   },
   "cell_type": "code",
   "source": [
    "# Train a Word2Vec model \n",
    "model = Word2Vec(sentence, vector_size= 100, window=10, min_count=5, workers=4)     "
   ],
   "id": "e325cecebfd01fee",
   "outputs": [],
   "execution_count": 5
  },
  {
   "metadata": {},
   "cell_type": "markdown",
   "source": "## Find the Most Similar Words to 'King' :",
   "id": "157525b33f8e5f76"
  },
  {
   "metadata": {
    "ExecuteTime": {
     "end_time": "2024-05-22T13:35:34.615974Z",
     "start_time": "2024-05-22T13:35:34.610646Z"
    }
   },
   "cell_type": "code",
   "source": [
    "similar_words = model.wv.most_similar(\"king\")\n",
    "print(\"Most Similar Words to 'King':\")\n",
    "for word, similarity in similar_words:\n",
    "    print(f\"{word}: {similarity:.4f}\")"
   ],
   "id": "478c33018b68186a",
   "outputs": [
    {
     "name": "stdout",
     "output_type": "stream",
     "text": [
      "Most Similar Words to 'King':\n",
      "mood: 0.9527\n",
      "angry: 0.9416\n",
      "cancer: 0.9346\n",
      "minister: 0.9294\n",
      "Vienna: 0.9274\n",
      "script: 0.9270\n",
      "Jet: 0.9263\n",
      "treated: 0.9255\n",
      "agony: 0.9247\n",
      "neutral: 0.9246\n"
     ]
    }
   ],
   "execution_count": 12
  },
  {
   "metadata": {},
   "cell_type": "markdown",
   "source": "### Compute Similarity Between 'Queen' and 'King'",
   "id": "21aeb4cf58ce8971"
  },
  {
   "metadata": {
    "ExecuteTime": {
     "end_time": "2024-05-22T13:35:37.619619Z",
     "start_time": "2024-05-22T13:35:37.614903Z"
    }
   },
   "cell_type": "code",
   "source": [
    "similar_words = model.wv.similarity(\"king\", 'queen')\n",
    "print(f\"Most Similar Words to 'Queen': {similarity:.4f} \")"
   ],
   "id": "4e036204c40ba48",
   "outputs": [
    {
     "name": "stdout",
     "output_type": "stream",
     "text": [
      "Most Similar Words to 'Queen': 0.9246 \n"
     ]
    }
   ],
   "execution_count": 13
  },
  {
   "metadata": {},
   "cell_type": "markdown",
   "source": "## Compute Similarity between 'President' and 'King' ",
   "id": "dc00ca8cface88cc"
  },
  {
   "metadata": {
    "ExecuteTime": {
     "end_time": "2024-05-22T13:36:06.143962Z",
     "start_time": "2024-05-22T13:36:06.138964Z"
    }
   },
   "cell_type": "code",
   "source": [
    "simillar_words = model.wv.most_similar(\"president\", 'king')\n",
    "print(f\"Most Similar Words to 'President': {similarity:.4f} \")"
   ],
   "id": "d9c92abb80a87a88",
   "outputs": [
    {
     "name": "stdout",
     "output_type": "stream",
     "text": [
      "Most Similar Words to 'President': 0.9246 \n"
     ]
    }
   ],
   "execution_count": 15
  },
  {
   "metadata": {},
   "cell_type": "code",
   "outputs": [],
   "execution_count": null,
   "source": "",
   "id": "f643450bc62b3a8f"
  }
 ],
 "metadata": {
  "kernelspec": {
   "display_name": "Python 3",
   "language": "python",
   "name": "python3"
  },
  "language_info": {
   "codemirror_mode": {
    "name": "ipython",
    "version": 2
   },
   "file_extension": ".py",
   "mimetype": "text/x-python",
   "name": "python",
   "nbconvert_exporter": "python",
   "pygments_lexer": "ipython2",
   "version": "2.7.6"
  }
 },
 "nbformat": 4,
 "nbformat_minor": 5
}
